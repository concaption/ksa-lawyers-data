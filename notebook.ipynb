{
 "cells": [
  {
   "cell_type": "code",
   "execution_count": null,
   "metadata": {},
   "outputs": [],
   "source": [
    "import pandas as pd\n",
    "\n",
    "# Load the Excel file\n",
    "excel_file = 'lawyers_data.xlsx'\n",
    "df = pd.read_excel(excel_file)\n",
    "\n",
    "# Convert the DataFrame to a Markdown table\n",
    "markdown_table = df.to_markdown(index=False)\n",
    "\n",
    "# Print the Markdown table\n",
    "print(markdown_table)\n",
    "\n",
    "# Optionally, save the Markdown table to a file\n",
    "with open('output.md', 'w') as f:\n",
    "    f.write(markdown_table)"
   ]
  }
 ],
 "metadata": {
  "kernelspec": {
   "display_name": ".venv",
   "language": "python",
   "name": "python3"
  },
  "language_info": {
   "name": "python",
   "version": "3.11.7"
  }
 },
 "nbformat": 4,
 "nbformat_minor": 2
}

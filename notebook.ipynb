{
 "cells": [
  {
   "cell_type": "code",
   "execution_count": null,
   "metadata": {},
   "outputs": [],
   "source": [
    "from selenium import webdriver\n",
    "from selenium.webdriver.common.by import By\n",
    "from selenium.webdriver.chrome.service import Service\n",
    "from webdriver_manager.chrome import ChromeDriverManager\n",
    "from selenium.webdriver.chrome.options import Options\n",
    "\n",
    "\n",
    "# Set up Chrome options\n",
    "chrome_options = Options()\n",
    "# chrome_options.add_argument(\"--headless\")  # Run headless if you do not want a browser window to open\n",
    "chrome_options.add_argument(\"--no-sandbox\")\n",
    "chrome_options.add_argument(\"--disable-dev-shm-usage\")\n",
    "\n",
    "# Set up the web driver\n",
    "service = Service(ChromeDriverManager().install())\n",
    "driver = webdriver.Chrome(service=service, options=chrome_options)\n",
    "\n",
    "# Define the URL of the page\n",
    "url = \"https://eservice.sba.gov.sa/en/directory/7\"  # Replace with the actual URL\n",
    "\n",
    "# Open the URL\n",
    "driver.get(url)\n",
    "\n",
    "# Function to extract and print information\n",
    "def extract_info():\n",
    "    # Extract the name of the firm\n",
    "    firm_name = driver.find_element(By.CSS_SELECTOR, '.navy-text.pt-5').text\n",
    "    print(f\"Firm Name: {firm_name}\")\n",
    "    \n",
    "    # Extract the email\n",
    "    email = driver.find_element(By.CSS_SELECTOR, 'a[href^=\"mailto\"]').text\n",
    "    print(f\"Email: {email}\")\n",
    "    \n",
    "    # Extract the phone number\n",
    "    phone = driver.find_element(By.CSS_SELECTOR, 'a[href^=\"tel\"]').text\n",
    "    print(f\"Phone: {phone}\")\n",
    "    \n",
    "    # Extract address\n",
    "    address_elements = driver.find_elements(By.CSS_SELECTOR, '.card-body ul li span')\n",
    "    address = ', '.join([element.text for element in address_elements])\n",
    "    print(f\"Address: {address}\")\n",
    "    \n",
    "    # Extract services\n",
    "    services_elements = driver.find_elements(By.CSS_SELECTOR, '.badge.badge-pill.badge-info a')\n",
    "    services = [element.text for element in services_elements]\n",
    "    print(\"Services:\")\n",
    "    for service in services:\n",
    "        print(f\"  - {service}\")\n",
    "\n",
    "# Call the function to extract information\n",
    "extract_info()\n",
    "\n",
    "# Close the driver\n",
    "driver.quit()\n"
   ]
  }
 ],
 "metadata": {
  "kernelspec": {
   "display_name": ".venv",
   "language": "python",
   "name": "python3"
  },
  "language_info": {
   "name": "python",
   "version": "3.11.7"
  }
 },
 "nbformat": 4,
 "nbformat_minor": 2
}
